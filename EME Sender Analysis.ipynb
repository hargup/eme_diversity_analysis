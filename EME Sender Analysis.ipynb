{
 "cells": [
  {
   "cell_type": "code",
   "execution_count": 1,
   "metadata": {
    "collapsed": true
   },
   "outputs": [],
   "source": [
    "import bigbang.mailman as mailman\n",
    "import bigbang.process as process\n",
    "from bigbang.archive import Archive\n",
    "\n",
    "\n",
    "import pandas as pd\n",
    "import datetime\n",
    "\n",
    "from commonregex import CommonRegex\n",
    "\n",
    "import matplotlib.pyplot as plt\n",
    "%matplotlib inline"
   ]
  },
  {
   "cell_type": "code",
   "execution_count": 2,
   "metadata": {
    "collapsed": true
   },
   "outputs": [],
   "source": [
    "def filter_messages(df, column, keywords):\n",
    "    filters = []\n",
    "    for keyword in keywords:\n",
    "        filters.append(df[column].str.contains(keyword, case=False))\n",
    "\n",
    "    return df[reduce(lambda p, q: p | q, filters)]\n"
   ]
  },
  {
   "cell_type": "code",
   "execution_count": 3,
   "metadata": {
    "collapsed": false
   },
   "outputs": [
    {
     "name": "stdout",
     "output_type": "stream",
     "text": [
      "Opening 69 archive files\n"
     ]
    },
    {
     "name": "stderr",
     "output_type": "stream",
     "text": [
      "/home/hargup/code/bigbang/bigbang/archive.py:74: FutureWarning: sort(columns=....) is deprecated, use sort_values(by=.....)\n",
      "  self.data.sort(columns='Date', inplace=True)\n"
     ]
    }
   ],
   "source": [
    "# Get the Archieves\n",
    "pd.options.display.mpl_style = 'default'  # pandas has a set of preferred graph formatting options\n",
    "\n",
    "# XXX: the archieve_dir argument willl not work for other people\n",
    "mlist = mailman.open_list_archives(\"https://lists.w3.org/Archives/Public/public-html/\", archive_dir=\"/home/hargup/code/bigbang/archives\") \n",
    "\n",
    "# The spaces around eme are **very** important otherwise it can catch things like \"emerging\", \"implement\" etc\n",
    "eme_messages = filter_messages(mlist, 'Subject', [' EME ', 'Encrypted Media', 'Digital Rights Managagement'])\n",
    "eme_activites = Archive.get_activity(Archive(eme_messages))\n"
   ]
  },
  {
   "cell_type": "code",
   "execution_count": 4,
   "metadata": {
    "collapsed": false
   },
   "outputs": [
    {
     "data": {
      "text/plain": [
       "474.0"
      ]
     },
     "execution_count": 4,
     "metadata": {},
     "output_type": "execute_result"
    }
   ],
   "source": [
    "eme_activites.sum(0).sum()"
   ]
  },
  {
   "cell_type": "code",
   "execution_count": null,
   "metadata": {
    "collapsed": true
   },
   "outputs": [],
   "source": [
    "# XXX: Bugzilla might also contain discussions\n",
    "eme_activites.drop(\"bugzilla@jessica.w3.org\", axis=1, inplace=True)\n"
   ]
  },
  {
   "cell_type": "code",
   "execution_count": null,
   "metadata": {
    "collapsed": false
   },
   "outputs": [],
   "source": [
    "# Remove Dupicate senders\n",
    "levdf = process.sorted_matrix(eme_activites)\n",
    "\n",
    "consolidates = []\n",
    "# gather pairs of names which have a distance of less than 10\n",
    "for col in levdf.columns:\n",
    "  for index, value in levdf.loc[levdf[col] < 10, col].iteritems():\n",
    "        if index != col: # the name shouldn't be a pair for itself\n",
    "            consolidates.append((col, index))\n",
    "            \n",
    "# Handpick special cases which aren't covered with string matching\n",
    "consolidates.extend([(u'Kornel Lesi\\u0144ski <kornel@geekhood.net>',\n",
    "                      u'wrong string <kornel@geekhood.net>'),\n",
    "                     (u'Charles McCathie Nevile <chaals@yandex-team.ru>',\n",
    "                      u'Charles McCathieNevile <chaals@opera.com>')])\n",
    "\n",
    "eme_activites = process.consolidate_senders_activity(eme_activites, consolidates)"
   ]
  },
  {
   "cell_type": "code",
   "execution_count": null,
   "metadata": {
    "collapsed": false
   },
   "outputs": [],
   "source": [
    "sender_categories = pd.read_csv('people_tag.csv',delimiter=',', encoding=\"utf-8-sig\")\n",
    "\n",
    "# match sender using email only\n",
    "sender_categories['email'] = map(lambda x: CommonRegex(x).emails[0].lower(), sender_categories['name_email'])\n",
    "\n",
    "sender_categories.index = sender_categories['email']\n",
    "cat_dicts = {\n",
    "    \"region\":{\n",
    "        1: \"Asia\",\n",
    "        2: \"Australia and New Zealand\",\n",
    "        3: \"Europe\",\n",
    "        4: \"Africa\",\n",
    "        5: \"North America\",\n",
    "        6: \"South America\"\n",
    "    },\n",
    "    \"work\":{\n",
    "        1: \"Foss Browser Developer\",\n",
    "        2: \"Content Provider\",\n",
    "        3: \"DRM platform provider\",\n",
    "        4: \"Accessibility\",\n",
    "        5: \"Security Researcher\",\n",
    "        6: \"Other W3C Empoyee\",\n",
    "        7: \"Privacy\",\n",
    "        8: \"None of the above\"\n",
    "\n",
    "    }\n",
    "}"
   ]
  },
  {
   "cell_type": "code",
   "execution_count": null,
   "metadata": {
    "collapsed": true
   },
   "outputs": [],
   "source": [
    "def get_cat_val_func(cat):\n",
    "    \"\"\"\n",
    "    Given category type, returns a function which gives the category value for a sender.\n",
    "    \"\"\"\n",
    "    def _get_cat_val(sender):\n",
    "        try:\n",
    "            sender_email = CommonRegex(sender).emails[0].lower()\n",
    "            return cat_dicts[cat][sender_categories.loc[sender_email][cat]]\n",
    "        except KeyError:\n",
    "            return \"Unknow\"\n",
    "    return _get_cat_val"
   ]
  },
  {
   "cell_type": "code",
   "execution_count": null,
   "metadata": {
    "collapsed": false
   },
   "outputs": [],
   "source": [
    "grouped = eme_activites.groupby(get_cat_val_func(\"region\"), axis=1)\n",
    "print(\"Emails sent per region\\n\")\n",
    "print(grouped.sum().sum())\n",
    "print(\"Total emails: %s\" % grouped.sum().sum().sum())"
   ]
  },
  {
   "cell_type": "code",
   "execution_count": null,
   "metadata": {
    "collapsed": false
   },
   "outputs": [],
   "source": [
    "print(\"Participants per region\")\n",
    "for group in grouped.groups:\n",
    "    print \"%s: %s\" % (group,len(grouped.get_group(group).sum()))\n",
    "print(\"Total participants: %s\" % len(eme_activites.columns))\n"
   ]
  },
  {
   "cell_type": "code",
   "execution_count": null,
   "metadata": {
    "collapsed": false
   },
   "outputs": [],
   "source": [
    "grouped = eme_activites.groupby(get_cat_val_func(\"work\"), axis=1)\n",
    "print(\"Emails sent per work category\")\n",
    "print(grouped.sum().sum())"
   ]
  },
  {
   "cell_type": "code",
   "execution_count": null,
   "metadata": {
    "collapsed": false
   },
   "outputs": [],
   "source": [
    "print(\"Participants per work category\")\n",
    "for group in grouped.groups:\n",
    "    print \"%s: %s\" % (group,len(grouped.get_group(group).sum()))"
   ]
  },
  {
   "cell_type": "code",
   "execution_count": null,
   "metadata": {
    "collapsed": true
   },
   "outputs": [],
   "source": [
    "# Why is diversity important?\n",
    "# Cultural Atitudes between Asia and Europeans are very differnt\n",
    "# The IP regiems are very different, for example India does not allow Software Patents\n",
    "# and DRM laws are also very differt. They are developing standards for the world\n",
    "# by thinking about US"
   ]
  }
 ],
 "metadata": {
  "kernelspec": {
   "display_name": "Python 2",
   "language": "python",
   "name": "python2"
  },
  "language_info": {
   "codemirror_mode": {
    "name": "ipython",
    "version": 2
   },
   "file_extension": ".py",
   "mimetype": "text/x-python",
   "name": "python",
   "nbconvert_exporter": "python",
   "pygments_lexer": "ipython2",
   "version": "2.7.11"
  }
 },
 "nbformat": 4,
 "nbformat_minor": 0
}
